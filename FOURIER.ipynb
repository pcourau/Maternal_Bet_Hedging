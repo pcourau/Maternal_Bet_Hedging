{
 "cells": [
  {
   "cell_type": "markdown",
   "id": "17606250",
   "metadata": {},
   "source": [
    "# Fourier Transform\n",
    "\n",
    "Our goal here is to model the same thing as before, using Fourier transforms"
   ]
  },
  {
   "cell_type": "code",
   "execution_count": null,
   "id": "111307c2",
   "metadata": {},
   "outputs": [],
   "source": [
    "import numpy as np\n",
    "from scipy.stats import multivariate_normal as multinom\n",
    "from scipy.stats import norm\n",
    "from statsmodels.tsa.arima_process import ArmaProcess\n",
    "import matplotlib.pyplot as plt"
   ]
  },
  {
   "cell_type": "code",
   "execution_count": null,
   "id": "e9b64da4",
   "metadata": {},
   "outputs": [],
   "source": [
    "#The first term is the mean genetic value of z\n",
    "#The second term is the parameter of sensitivity to maternal environment m\n",
    "x0        = (1,1) #Initial conditions. \n",
    "tau       = 1000  #Lifespan\n",
    "nbsteps   = 20    #Number of selective episodes in an organism’s lifetime\n",
    "spacebins = 100\n",
    "w2        = 10    #Inverse selection strength (constant)\n",
    "\n",
    "V0        = (0.5,0.01)  #Genetic variance (again for l, m)\n",
    "Vr        = [0.3,0.005] #This is the variability during reproduction, in the infinitesimal model\n",
    "\n",
    "#Autocorrelation of the environment, careful it is the parameter in the equivalent Ornstein-Uhlenbeck process !\n",
    "rho       = 1\n",
    "sig2_e    = 20 #Variance in the environment\n",
    "\n",
    "\n",
    "Tmax      = 5000"
   ]
  },
  {
   "cell_type": "markdown",
   "id": "05441997",
   "metadata": {},
   "source": [
    "Environment"
   ]
  },
  {
   "cell_type": "code",
   "execution_count": null,
   "id": "8b554ded",
   "metadata": {},
   "outputs": [],
   "source": [
    "def GenerateEnvironment(r=rho, s2=sig2_e, n = nbsteps*Tmax, time=tau*Tmax):\n",
    "    \"\"\"This function, for a given autocorrelation r and environmental standard deviation s, generates an AR[1] sequence of length n\n",
    "    Keep in mind that a discretized (in steps of size dt) O-U process with parameters (r,s2) is an AR[1] process with parameters (exp(-rho dt), sqrt(s2(1-exp(-2rho dt))))\"\"\"\n",
    "    x= ArmaProcess([1,-np.exp(-r*time/n)]).generate_sample(n,scale=np.sqrt(s2*(1-np.exp(-2 * r *time/n))))\n",
    "    return x\n",
    "\n",
    "def plot_spectrum(s):\n",
    "    f = np.fft.rfftfreq(len(s))\n",
    "    plt.loglog(f, np.abs(np.fft.rfft(s)))\n",
    "\n",
    "def noise_psd(N, psd = lambda f,r: 1, param=1):\n",
    "    X_white = np.fft.rfft(np.random.randn(N));\n",
    "    S = psd(np.fft.rfftfreq(N),param)\n",
    "    S = S / np.sqrt(np.mean(S**2))\n",
    "    X_shaped = X_white * S;\n",
    "    return np.fft.irfft(X_shaped);\n",
    "\n",
    "def PSDGenerator(f):\n",
    "    return lambda N,param=1: noise_psd(N, f, param)\n",
    "\n",
    "@PSDGenerator\n",
    "def white_noise(f,r=1):\n",
    "    return 1;\n",
    "\n",
    "@PSDGenerator\n",
    "def red_noise(f,r=2):\n",
    "    return 1/np.where(f == 0, float('inf'), f**r)\n",
    "\n",
    "@PSDGenerator\n",
    "def blue_noise(f,r=1):\n",
    "    return np.sqrt(f);\n",
    "\n",
    "@PSDGenerator\n",
    "def violet_noise(f,r=1):\n",
    "    return f;\n",
    "\n",
    "@PSDGenerator\n",
    "def brownian_noise(f,r=1):\n",
    "    return 1/np.where(f == 0, float('inf'), f)\n",
    "\n",
    "@PSDGenerator\n",
    "def pink_noise(f,r=1):\n",
    "    return 1/np.where(f == 0, float('inf'), np.sqrt(f))"
   ]
  },
  {
   "cell_type": "code",
   "execution_count": null,
   "id": "7b40b4e4",
   "metadata": {},
   "outputs": [],
   "source": [
    "def GenerateTrajectoryMNC(x0=x0,V0=V0,Vr=Vr,w2=w2,rho=rho,sig2_e=sig2_e,nbsteps=nbsteps,tau=tau,Tmax=Tmax,th=[]):\n",
    "    \"\"\"This function generates the trajectory of a population for Maternal bet-hedging, No Cue:\n",
    "    x0 initial means\n",
    "    V0 initial variance\n",
    "    Vr reproduction variance\n",
    "    w2 selection strength\n",
    "    rho environmental autocorrelation\n",
    "    sig2_e environmental variance\n",
    "    nbsteps number of selective events in an organism’s life\n",
    "    tau the longevity (or time between birth and reproduction)\n",
    "    Tmax number of generations to be simulated\"\"\"\n",
    "    x          = x0\n",
    "    z          = x0[0]\n",
    "    if len(th)==0:\n",
    "        th         = GenerateEnvironment(r=rho, s2=sig2_e, n = nbsteps*(Tmax+1), time=tau*(Tmax+1))\n",
    "    thvarprev  = np.var(th[0:nbsteps])\n",
    "    Vgenetic   = V0\n",
    "    pop        = [0] \n",
    "    listx      = [[0]*6]*(Tmax-1) #6 for: l,m,varl,varm,th,thvar\n",
    "    for t in range(Tmax-1):\n",
    "        #Environmental parameters\n",
    "        thmean    = np.mean(th[(t+1)*nbsteps:(t+2)*nbsteps])\n",
    "        thvar     = np.var(th[(t+1)*nbsteps:(t+2)*nbsteps])\n",
    "        #Calculation intermediates\n",
    "        omega_l   =  w2+x[1]**2+2*(Vgenetic[1]-Vr[1]) #keep in mind G*(t-1) = 2(G(t)-Vr)\n",
    "        omega_m   = (w2+x[1]**2+2*(Vgenetic[1]-Vr[1]))/(1 - ((x[0]-thmean)**2+Vgenetic[0])/\n",
    "                                                        (w2+x[1]**2+2*(Vgenetic[1]-Vr[1])))\n",
    "        eta_t     = (Vgenetic[1]-Vr[1])/(omega_m+2*(Vgenetic[1]-Vr[1])) #See the text, keep in mind G*(t-1)=2(Gt-Vr)\n",
    "        #Iteration\n",
    "        deltam    = np.min([np.max([-eta_t*x[1],\n",
    "                                  -10*(Vr[1]+V0[1])]), #Prevents explosions\n",
    "                                   10*(Vr[1]+V0[1])])\n",
    "        x         = (x[0]+Vgenetic[0]/(Vgenetic[0]+omega_l)*(thmean-x[0]),\n",
    "                    x[1]+deltam)\n",
    "        Vgenetic  = (1/(1/omega_l  +        1/Vgenetic[0])/2+Vr[0],\n",
    "                    (eta_t*Vr[1]   +(1-eta_t)*Vgenetic[1])/2+Vr[1])\n",
    "        thvarprev = thvar\n",
    "        listx[t]  = list(x)+list(Vgenetic)+[thmean,thvar]\n",
    "    return np.transpose(listx)"
   ]
  },
  {
   "cell_type": "code",
   "execution_count": null,
   "id": "8af58f13",
   "metadata": {},
   "outputs": [],
   "source": []
  }
 ],
 "metadata": {
  "kernelspec": {
   "display_name": "Python 3",
   "language": "python",
   "name": "python3"
  },
  "language_info": {
   "codemirror_mode": {
    "name": "ipython",
    "version": 3
   },
   "file_extension": ".py",
   "mimetype": "text/x-python",
   "name": "python",
   "nbconvert_exporter": "python",
   "pygments_lexer": "ipython3",
   "version": "3.8.8"
  }
 },
 "nbformat": 4,
 "nbformat_minor": 5
}
