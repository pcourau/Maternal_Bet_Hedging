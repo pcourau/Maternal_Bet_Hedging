{
 "cells": [
  {
   "cell_type": "code",
   "execution_count": 11,
   "id": "e36af9b8",
   "metadata": {},
   "outputs": [],
   "source": [
    "import numpy as np\n",
    "from scipy.stats import multivariate_normal as multinom\n",
    "from scipy.stats import norm\n",
    "from statsmodels.tsa.arima_process import ArmaProcess\n",
    "import matplotlib.pyplot as plt\n",
    "from seaborn import heatmap\n",
    "import pdb\n",
    "import os"
   ]
  },
  {
   "cell_type": "code",
   "execution_count": 2,
   "id": "2c783fd6",
   "metadata": {},
   "outputs": [],
   "source": [
    "#The first term is the mean genetic value of z\n",
    "#The second term is the parameter of sensitivity to maternal environment m\n",
    "x0       = (1,1) #Initial conditions. \n",
    "tau      = 1000  #Lifespan\n",
    "nbsteps  = 20    #Number of selective episodes in an organism’s lifetime\n",
    "w2       = 10    #Inverse selection strength (constant)\n",
    "\n",
    "V0       = (0.5,0.01)  #Genetic variance (again for l, m)\n",
    "Vr       = [0.3,0.005] #This is the variability during reproduction, in the infinitesimal model\n",
    "\n",
    "#Autocorrelation of the environment, careful it is the parameter in the equivalent Ornstein-Uhlenbeck process !\n",
    "rho      = 1\n",
    "sig2_e   = 20 #Variance in the environment\n",
    "\n",
    "\n",
    "Tmax     = 5000"
   ]
  },
  {
   "cell_type": "code",
   "execution_count": 21,
   "id": "73f582c9",
   "metadata": {},
   "outputs": [
    {
     "ename": "ImportError",
     "evalue": "cannot import name 'GenerateEnvironment' from 'Functions' (C:\\Users\\courau\\Functions.py)",
     "output_type": "error",
     "traceback": [
      "\u001b[1;31m---------------------------------------------------------------------------\u001b[0m",
      "\u001b[1;31mImportError\u001b[0m                               Traceback (most recent call last)",
      "\u001b[1;32m<ipython-input-21-3f40ed3ae169>\u001b[0m in \u001b[0;36m<module>\u001b[1;34m\u001b[0m\n\u001b[0;32m      1\u001b[0m \u001b[0mos\u001b[0m\u001b[1;33m.\u001b[0m\u001b[0mchdir\u001b[0m\u001b[1;33m(\u001b[0m\u001b[1;34m\"C://Users/courau/\"\u001b[0m\u001b[1;33m)\u001b[0m\u001b[1;33m\u001b[0m\u001b[1;33m\u001b[0m\u001b[0m\n\u001b[1;32m----> 2\u001b[1;33m \u001b[1;32mfrom\u001b[0m \u001b[0mFunctions\u001b[0m \u001b[1;32mimport\u001b[0m \u001b[0mGenerateEnvironment\u001b[0m\u001b[1;33m\u001b[0m\u001b[1;33m\u001b[0m\u001b[0m\n\u001b[0m",
      "\u001b[1;31mImportError\u001b[0m: cannot import name 'GenerateEnvironment' from 'Functions' (C:\\Users\\courau\\Functions.py)"
     ]
    }
   ],
   "source": [
    "os.chdir(\"C://Users/courau/\")\n",
    "from Functions import GenerateEnvironment"
   ]
  },
  {
   "cell_type": "code",
   "execution_count": null,
   "id": "237bc631",
   "metadata": {},
   "outputs": [],
   "source": []
  },
  {
   "cell_type": "code",
   "execution_count": null,
   "id": "0866429a",
   "metadata": {},
   "outputs": [],
   "source": []
  }
 ],
 "metadata": {
  "kernelspec": {
   "display_name": "Python 3",
   "language": "python",
   "name": "python3"
  },
  "language_info": {
   "codemirror_mode": {
    "name": "ipython",
    "version": 3
   },
   "file_extension": ".py",
   "mimetype": "text/x-python",
   "name": "python",
   "nbconvert_exporter": "python",
   "pygments_lexer": "ipython3",
   "version": "3.8.8"
  }
 },
 "nbformat": 4,
 "nbformat_minor": 5
}
